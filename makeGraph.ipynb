{
 "cells": [
  {
   "cell_type": "code",
   "execution_count": 36,
   "metadata": {},
   "outputs": [],
   "source": [
    "import pandas as pd\n",
    "import numpy as np\n",
    "import networkx as nx\n",
    "from netgraph import Graph\n",
    "import itertools\n",
    "import statistics\n",
    "\n",
    "df = pd.concat(map(pd.read_csv, [f'queryResult-{year}.csv' for year in range(2008,2025)]))\n",
    "df.drop(df.columns[df.columns.str.contains('unnamed', case=False)], axis=1, inplace=True)\n",
    "\n",
    "G1 = nx.Graph()\n",
    "G2 = nx.Graph()\n",
    "\n",
    "for index, row in df.iterrows():\n",
    "    affil_list = str(row['affilname']).lower().split(';')\n",
    "    country_by_affil_list = str(row['affiliation_country']).lower().split(';')\n",
    "    for affil_from, country_by_affil_from in zip(affil_list, country_by_affil_list):\n",
    "        if not G1.has_node(affil_from):\n",
    "            G1.add_node(affil_from)\n",
    "            G1.nodes[affil_from]['country'] = country_by_affil_from\n",
    "        for affil_to, country_by_affil_to in zip(affil_list, country_by_affil_list):\n",
    "            if not G1.has_node(affil_to):\n",
    "                G1.add_node(affil_to)\n",
    "                G1.nodes[affil_to]['country'] = country_by_affil_to\n",
    "            if affil_from == affil_to:\n",
    "                continue\n",
    "            if G1.has_edge(affil_from, affil_to):\n",
    "                G1[affil_from][affil_to]['weight'] += 0.1\n",
    "            else:\n",
    "                G1.add_edge(affil_from, affil_to, weight=0.1)\n",
    "\n",
    "degrees = sorted([degree for node, degree in dict(G1.degree()).items() if degree < 100])\n",
    "quantile = 500\n",
    "low_degree_nodes = [node for node, degree in dict(G1.degree()).items() if degree < quantile]\n",
    "G1.remove_nodes_from(low_degree_nodes)\n",
    "\n",
    "for index, row in df.iterrows():\n",
    "    country_list = str(row['affiliation_country']).lower().split(';')\n",
    "    for country_from in country_list:\n",
    "        for country_to in country_list:\n",
    "            if country_from == country_to:\n",
    "                continue\n",
    "            if G2.has_edge(country_from, country_to):\n",
    "                G2[country_from][country_to]['weight'] += 0.1\n",
    "            else:\n",
    "                G2.add_edge(country_from, country_to, weight=0.1)\n",
    "\n",
    "nx.write_gexf(G1, 'graph_institution.gexf')\n",
    "nx.write_gexf(G2, 'graph_country.gexf')"
   ]
  }
 ],
 "metadata": {
  "kernelspec": {
   "display_name": "Python 3",
   "language": "python",
   "name": "python3"
  },
  "language_info": {
   "codemirror_mode": {
    "name": "ipython",
    "version": 3
   },
   "file_extension": ".py",
   "mimetype": "text/x-python",
   "name": "python",
   "nbconvert_exporter": "python",
   "pygments_lexer": "ipython3",
   "version": "3.12.4"
  }
 },
 "nbformat": 4,
 "nbformat_minor": 2
}
