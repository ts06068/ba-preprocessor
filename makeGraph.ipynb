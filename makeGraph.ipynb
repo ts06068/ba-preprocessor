{
 "cells": [
  {
   "cell_type": "code",
   "execution_count": 5,
   "metadata": {},
   "outputs": [
    {
     "ename": "KeyError",
     "evalue": "'weight'",
     "output_type": "error",
     "traceback": [
      "\u001b[1;31m---------------------------------------------------------------------------\u001b[0m",
      "\u001b[1;31mKeyError\u001b[0m                                  Traceback (most recent call last)",
      "Cell \u001b[1;32mIn[5], line 25\u001b[0m\n\u001b[0;32m     23\u001b[0m     \u001b[38;5;28;01mcontinue\u001b[39;00m\n\u001b[0;32m     24\u001b[0m \u001b[38;5;28;01mif\u001b[39;00m G1\u001b[38;5;241m.\u001b[39mhas_edge(affil_from, affil_to):\n\u001b[1;32m---> 25\u001b[0m     \u001b[43mG1\u001b[49m\u001b[43m[\u001b[49m\u001b[43maffil_from\u001b[49m\u001b[43m]\u001b[49m\u001b[43m[\u001b[49m\u001b[43maffil_to\u001b[49m\u001b[43m]\u001b[49m\u001b[43m[\u001b[49m\u001b[38;5;124;43m'\u001b[39;49m\u001b[38;5;124;43mweight\u001b[39;49m\u001b[38;5;124;43m'\u001b[39;49m\u001b[43m]\u001b[49m \u001b[38;5;241m+\u001b[39m\u001b[38;5;241m=\u001b[39m \u001b[38;5;241m0.1\u001b[39m\n\u001b[0;32m     26\u001b[0m \u001b[38;5;28;01melse\u001b[39;00m:\n\u001b[0;32m     27\u001b[0m     G1\u001b[38;5;241m.\u001b[39madd_edge(affil_from, affil_to, weigt\u001b[38;5;241m=\u001b[39m\u001b[38;5;241m0.1\u001b[39m)\n",
      "\u001b[1;31mKeyError\u001b[0m: 'weight'"
     ]
    }
   ],
   "source": [
    "import pandas as pd\n",
    "import numpy as np\n",
    "import networkx as nx\n",
    "from netgraph import Graph\n",
    "\n",
    "df = pd.read_csv('queryResult-2008.csv', index_col=0)\n",
    "\n",
    "G1 = nx.Graph()\n",
    "G2 = nx.Graph()\n",
    "\n",
    "nx.DiGraph()\n",
    "\n",
    "\"\"\"\n",
    "for index, row in df.iterrows():\n",
    "    print(index, row['A'], row['B'])\n",
    "\"\"\"\n",
    "\n",
    "for index, row in df.iterrows():\n",
    "    affil_list = str(row['affilname']).lower().split(';')\n",
    "    for affil_from in affil_list:\n",
    "        for affil_to in affil_list:\n",
    "            if affil_from == affil_to:\n",
    "                continue\n",
    "            if G1.has_edge(affil_from, affil_to):\n",
    "                G1[affil_from, affil_to]['weight'] += 0.1\n",
    "            else:\n",
    "                G1.add_edge(affil_from, affil_to, weigt=0.1)\n",
    "\n",
    "\n",
    "for index, row in df.iterrows():\n",
    "    country_list = str(row['affiliation_country']).lower().split(';')\n",
    "    for country_from in country_list:\n",
    "        for country_to in country_list:\n",
    "            if country_from == country_to:\n",
    "                continue\n",
    "            if G2.has_edge(country_from, country_to):\n",
    "                G2[country_from][country_to]['weight'] += 0.1\n",
    "            else:\n",
    "                G2.add_edge(country_from, country_to, weigt=0.1)\n",
    "\n",
    "nx.write_gexf(G1, 'graph_institution.gexf')\n",
    "nx.write_gexf(G2, 'graph_country.gexf')"
   ]
  }
 ],
 "metadata": {
  "kernelspec": {
   "display_name": "Python 3",
   "language": "python",
   "name": "python3"
  },
  "language_info": {
   "codemirror_mode": {
    "name": "ipython",
    "version": 3
   },
   "file_extension": ".py",
   "mimetype": "text/x-python",
   "name": "python",
   "nbconvert_exporter": "python",
   "pygments_lexer": "ipython3",
   "version": "3.12.4"
  }
 },
 "nbformat": 4,
 "nbformat_minor": 2
}
